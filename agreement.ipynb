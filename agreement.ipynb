{
 "cells": [
  {
   "cell_type": "code",
   "execution_count": 1,
   "metadata": {
    "slideshow": {
     "slide_type": "skip"
    }
   },
   "outputs": [
    {
     "name": "stderr",
     "output_type": "stream",
     "text": [
      "Broken libmagic installation detected. The python-magic module is installed but can't be imported. Please check that both python-magic and the libmagic shared library are installed correctly. Uploading media other than images may not work.\n"
     ]
    }
   ],
   "source": [
    "import pandas\n",
    "\n",
    "from IPython.display import clear_output\n",
    "from matplotlib import pyplot\n",
    "from panoptes_client import Classification, Panoptes\n",
    "\n",
    "from datetime import datetime\n",
    "from pathlib import Path\n",
    "\n",
    "import json\n",
    "import pytz\n",
    "import time\n",
    "import yaml"
   ]
  },
  {
   "cell_type": "code",
   "execution_count": 2,
   "metadata": {
    "slideshow": {
     "slide_type": "slide"
    }
   },
   "outputs": [
    {
     "data": {
      "text/plain": [
       "datetime.datetime(2022, 3, 10, 15, 45, tzinfo=<UTC>)"
      ]
     },
     "execution_count": 2,
     "metadata": {},
     "output_type": "execute_result"
    }
   ],
   "source": [
    "PROJECT_ID = 14770\n",
    "START_DATETIME = pytz.UTC.localize(datetime(2022, 3, 10, 15, 45, 0, 0))\n",
    "START_DATETIME"
   ]
  },
  {
   "cell_type": "code",
   "execution_count": 3,
   "metadata": {
    "slideshow": {
     "slide_type": "skip"
    }
   },
   "outputs": [
    {
     "data": {
      "text/plain": [
       "<panoptes_client.panoptes.Panoptes at 0x17a7a2b0220>"
      ]
     },
     "execution_count": 3,
     "metadata": {},
     "output_type": "execute_result"
    }
   ],
   "source": [
    "with open('env.yaml') as env_f:\n",
    "    env = yaml.safe_load(env_f)\n",
    "Panoptes.connect(**env)"
   ]
  },
  {
   "cell_type": "markdown",
   "metadata": {
    "slideshow": {
     "slide_type": "skip"
    }
   },
   "source": [
    "## Pre-load the last classifications export"
   ]
  },
  {
   "cell_type": "code",
   "execution_count": 4,
   "metadata": {
    "slideshow": {
     "slide_type": "skip"
    }
   },
   "outputs": [],
   "source": [
    "try:\n",
    "    previous_classifications = pandas.read_pickle('data/classifications.pkl')\n",
    "except FileNotFoundError:\n",
    "    previous_classifications = pandas.read_csv(\n",
    "        \"data/superwasp-black-hole-hunters-classifications.csv\",\n",
    "        converters={'annotations': json.loads},\n",
    "        parse_dates=['created_at'],\n",
    "    ).set_index('classification_id')\n",
    "    previous_classifications['lensed'] = previous_classifications.annotations.apply(\n",
    "        lambda a: a[0]['value'] == 'Yes'\n",
    "    )\n",
    "    previous_classifications = previous_classifications[['lensed', 'subject_ids', 'created_at']]\n",
    "    #previous_classifications['created_at'] = previous_classifications['created_at'].dt.tz_localize('UTC')\n",
    "    previous_classifications.to_pickle('data/classifications.pkl')"
   ]
  },
  {
   "cell_type": "code",
   "execution_count": 5,
   "metadata": {
    "slideshow": {
     "slide_type": "slide"
    }
   },
   "outputs": [],
   "source": [
    "try:\n",
    "    session_stats = pandas.read_pickle('data/stats.pkl')\n",
    "except FileNotFoundError:\n",
    "    session_stats = pandas.DataFrame({\n",
    "        'timestamp': [],\n",
    "        'agreement': [],\n",
    "        'total': [],\n",
    "    })"
   ]
  },
  {
   "cell_type": "markdown",
   "metadata": {
    "slideshow": {
     "slide_type": "skip"
    }
   },
   "source": [
    "## Catch up on classifications since the last export"
   ]
  },
  {
   "cell_type": "code",
   "execution_count": 6,
   "metadata": {
    "slideshow": {
     "slide_type": "slide"
    }
   },
   "outputs": [
    {
     "name": "stdout",
     "output_type": "stream",
     "text": [
      "Last classification: 2022-03-10 16:09:56.266000+00:00\n",
      "Last update: 2022-03-10 16:10:37.631685\n"
     ]
    }
   ],
   "source": [
    "while True:\n",
    "    print(f\"Last classification: {previous_classifications.iloc[-1]['created_at']}\")\n",
    "    new_classifications = {\n",
    "        'classification_id': [],\n",
    "        'subject_ids': [],\n",
    "        'lensed': [],\n",
    "        'created_at': [],\n",
    "    }\n",
    "    for i, classification in enumerate(Classification.where(\n",
    "        scope='project', project_id=14770, last_id=previous_classifications.iloc[-1].name,\n",
    "        page_size=100,\n",
    "    ), start=1):\n",
    "        new_classifications['classification_id'].append(classification.id)\n",
    "        new_classifications['subject_ids'].append(int(classification.links.subjects[0].id))\n",
    "        new_classifications['lensed'].append(classification.annotations[0]['value'] in ('Yes', 0, '0'))\n",
    "        new_classifications['created_at'].append(classification.created_at)\n",
    "        if i == 1000:\n",
    "            break\n",
    "    new_classifications = pandas.DataFrame(new_classifications).set_index('classification_id')\n",
    "    new_classifications['created_at'] = pandas.to_datetime(new_classifications['created_at'])\n",
    "    previous_classifications = pandas.concat([previous_classifications, new_classifications])\n",
    "    previous_classifications.to_pickle('data/classifications.pkl.new')\n",
    "    Path('data/classifications.pkl.new').replace('data/classifications.pkl')\n",
    "\n",
    "    session_classifications = previous_classifications[previous_classifications['created_at'].gt(START_DATETIME)]\n",
    "    if len(session_classifications) == 0:\n",
    "        time.sleep(10)\n",
    "        continue\n",
    "    session_subjects = session_classifications['subject_ids'].drop_duplicates()\n",
    "    all_subject_classifications = previous_classifications[previous_classifications['subject_ids'].isin(session_subjects)]\n",
    "\n",
    "    aggregated_classifications = all_subject_classifications[['subject_ids', 'lensed']].pivot_table(\n",
    "        columns=['lensed'],\n",
    "        values='lensed',\n",
    "        index='subject_ids',\n",
    "        aggfunc=len,\n",
    "        fill_value=0,\n",
    "    )\n",
    "    if 1.0 not in aggregated_classifications:\n",
    "        aggregated_classifications[1.0] = 0\n",
    "    if 0.0 not in aggregated_classifications:\n",
    "        aggregated_classifications[0.0] = 0\n",
    "    aggregated_classifications['consensus'] = aggregated_classifications.apply(\n",
    "        lambda c: c[1.0] > c[0.0],\n",
    "        axis=1,\n",
    "    )\n",
    "    aggregated_classifications['total'] = aggregated_classifications[True] + aggregated_classifications[False]\n",
    "    aggregated_classifications['agreement'] = aggregated_classifications.apply(\n",
    "        lambda c: (c[c['consensus']] / c['total']) * 100,\n",
    "        axis=1,\n",
    "    )\n",
    "\n",
    "    mean_agreement = aggregated_classifications['agreement'].mean()\n",
    "\n",
    "    session_stats = pandas.concat((\n",
    "        session_stats,\n",
    "        pandas.DataFrame({\n",
    "            'timestamp': [pytz.UTC.localize(datetime.now())],\n",
    "            'total': [len(session_classifications)],\n",
    "            'agreement': [mean_agreement],\n",
    "        })\n",
    "    ))\n",
    "    filtered_session_stats = session_stats[session_stats['timestamp'].gt(START_DATETIME)]\n",
    "    filtered_session_stats.to_pickle('data/stats.pkl.new')\n",
    "    Path('data/stats.pkl.new').replace('data/stats.pkl')\n",
    "\n",
    "    filtered_session_stats.plot(x='timestamp', y='total')\n",
    "    pyplot.savefig('output/total.png', dpi=200)\n",
    "    pyplot.close()\n",
    "    filtered_session_stats.plot(x='timestamp', y='agreement')\n",
    "    pyplot.savefig('output/agreement.png', dpi=200)\n",
    "    pyplot.close()\n",
    "    with open('output/dashboard.html', 'w') as dashboard:\n",
    "        dashboard.write(f\"\"\"\n",
    "            <!doctype html>\n",
    "            <html>\n",
    "            <head>\n",
    "            <meta http-equiv=\"refresh\" content=\"30\" />\n",
    "            <!-- CSS only -->\n",
    "            <link href=\"https://cdn.jsdelivr.net/npm/bootstrap@5.1.3/dist/css/bootstrap.min.css\" rel=\"stylesheet\" integrity=\"sha384-1BmE4kWBq78iYhFldvKuhfTAU6auU8tT94WrHftjDbrCEXSU1oBoqyl2QvZ6jIW3\" crossorigin=\"anonymous\">\n",
    "            <!-- JavaScript Bundle with Popper -->\n",
    "            <script src=\"https://cdn.jsdelivr.net/npm/bootstrap@5.1.3/dist/js/bootstrap.bundle.min.js\" integrity=\"sha384-ka7Sk0Gln4gmtz2MlQnikT1wXgYsOg+OMhuP+IlRH9sENBO0LRn5q+8nbTov4+1p\" crossorigin=\"anonymous\"></script>\n",
    "            <style type=\"text/css\">\n",
    "            body {{\n",
    "                background-image: url(\"../lensing-artist-impression.jpg\");\n",
    "                background-position: 50% 25%;\n",
    "                background-repeat: no-repeat;\n",
    "                background-size: cover;\n",
    "            }}\n",
    "            .container {{\n",
    "                background-color: rgba(255, 255, 255, 0.8);\n",
    "                border: 1px solid #000;\n",
    "            }}\n",
    "            </style>\n",
    "            <body>\n",
    "            <div class=\"container mt-4\">\n",
    "                <div class=\"row justify-content-md-center mb-5\">\n",
    "                    <h1>Black Hole Hunters: British Science Week 2022</h1>\n",
    "                </div>\n",
    "                <div class=\"row justify-content-md-center\">\n",
    "                    <div class=\"col\">\n",
    "                    <h2>Total Classifications: {filtered_session_stats.iloc[-1]['total']:.0f}</h2>\n",
    "                    <p><img src=\"total.png\" style=\"width: 100%\"></p>\n",
    "                    </div>\n",
    "                    <div class=\"col\">\n",
    "                    <h2>Agreement: {filtered_session_stats.iloc[-1]['agreement']:.1f}%</h2>\n",
    "                    <p><img src=\"agreement.png\" style=\"width: 100%\"></p>\n",
    "                    </div>\n",
    "                </div>\n",
    "            </div>\n",
    "            </body>\n",
    "            </html>\n",
    "        \"\"\")\n",
    "        print(f\"Last update: {datetime.now()}\")\n",
    "        clear_output(wait=True)\n",
    "    time.sleep(30)"
   ]
  }
 ],
 "metadata": {
  "celltoolbar": "Slideshow",
  "interpreter": {
   "hash": "4f85cde7d8b1579f8a83d1ec8ee622389003b5d8daf3da9b86d821365f66615c"
  },
  "kernelspec": {
   "display_name": "Python 3 (ipykernel)",
   "language": "python",
   "name": "python3"
  },
  "language_info": {
   "codemirror_mode": {
    "name": "ipython",
    "version": 3
   },
   "file_extension": ".py",
   "mimetype": "text/x-python",
   "name": "python",
   "nbconvert_exporter": "python",
   "pygments_lexer": "ipython3",
   "version": "3.8.5"
  }
 },
 "nbformat": 4,
 "nbformat_minor": 2
}
