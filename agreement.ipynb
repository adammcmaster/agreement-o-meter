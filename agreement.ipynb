{
 "cells": [
  {
   "cell_type": "code",
   "execution_count": null,
   "metadata": {},
   "outputs": [],
   "source": [
    "import pandas\n",
    "\n",
    "from IPython.display import clear_output\n",
    "from matplotlib import pyplot\n",
    "from panoptes_client import Classification, Panoptes\n",
    "\n",
    "from datetime import datetime\n",
    "from getpass import getpass\n",
    "\n",
    "import json\n",
    "import pytz\n",
    "import time"
   ]
  },
  {
   "cell_type": "code",
   "execution_count": null,
   "metadata": {},
   "outputs": [],
   "source": [
    "PROJECT_ID = 14770\n",
    "START_DATETIME = pytz.UTC.localize(datetime.now())\n",
    "START_DATETIME"
   ]
  },
  {
   "cell_type": "code",
   "execution_count": null,
   "metadata": {},
   "outputs": [],
   "source": [
    "Panoptes.connect(username=input(), password=getpass())"
   ]
  },
  {
   "cell_type": "markdown",
   "metadata": {},
   "source": [
    "## Pre-load the last classifications export"
   ]
  },
  {
   "cell_type": "code",
   "execution_count": 250,
   "metadata": {},
   "outputs": [],
   "source": [
    "try:\n",
    "    previous_classifications = pandas.read_pickle('data/classifications.pkl')\n",
    "except FileNotFoundError:\n",
    "    previous_classifications = pandas.read_csv(\n",
    "        \"data/superwasp-black-hole-hunters-classifications.csv\",\n",
    "        converters={'annotations': json.loads},\n",
    "        parse_dates=['created_at'],\n",
    "    ).set_index('classification_id')\n",
    "    previous_classifications['lensed'] = previous_classifications.annotations.apply(\n",
    "        lambda a: a[0]['value'] == 'Yes'\n",
    "    )\n",
    "    previous_classifications = previous_classifications[['lensed', 'subject_ids', 'created_at']]\n",
    "    previous_classifications['created_at'] = previous_classifications['created_at'].dt.tz_localize('UTC')\n",
    "    previous_classifications.to_pickle('data/classifications.pkl')"
   ]
  },
  {
   "cell_type": "code",
   "execution_count": 253,
   "metadata": {},
   "outputs": [],
   "source": [
    "try:\n",
    "    session_stats = pandas.read_pickle('data/stats.pkl')\n",
    "except FileNotFoundError:\n",
    "    session_stats = pandas.DataFrame({\n",
    "        'timestamp': [],\n",
    "        'agreement': [],\n",
    "        'total': [],\n",
    "    })"
   ]
  },
  {
   "cell_type": "markdown",
   "metadata": {},
   "source": [
    "## Catch up on classifications since the last export"
   ]
  },
  {
   "cell_type": "code",
   "execution_count": 254,
   "metadata": {},
   "outputs": [
    {
     "data": {
      "image/png": "[encoded data removed]",
      "text/plain": [
       "<Figure size 432x288 with 1 Axes>"
      ]
     },
     "metadata": {
      "needs_background": "light"
     },
     "output_type": "display_data"
    },
    {
     "data": {
      "image/png": "[encoded data removed]",
      "text/plain": [
       "<Figure size 432x288 with 1 Axes>"
      ]
     },
     "metadata": {
      "needs_background": "light"
     },
     "output_type": "display_data"
    },
    {
     "ename": "KeyboardInterrupt",
     "evalue": "",
     "output_type": "error",
     "traceback": [
      "\u001b[1;31m---------------------------------------------------------------------------\u001b[0m",
      "\u001b[1;31mKeyboardInterrupt\u001b[0m                         Traceback (most recent call last)",
      "\u001b[1;32m~\\AppData\\Local\\Temp/ipykernel_30724/1338974784.py\u001b[0m in \u001b[0;36m<module>\u001b[1;34m\u001b[0m\n\u001b[0;32m     56\u001b[0m     \u001b[0msession_stats\u001b[0m\u001b[1;33m.\u001b[0m\u001b[0mplot\u001b[0m\u001b[1;33m(\u001b[0m\u001b[0mx\u001b[0m\u001b[1;33m=\u001b[0m\u001b[1;34m'timestamp'\u001b[0m\u001b[1;33m,\u001b[0m \u001b[0my\u001b[0m\u001b[1;33m=\u001b[0m\u001b[1;34m'agreement'\u001b[0m\u001b[1;33m)\u001b[0m\u001b[1;33m\u001b[0m\u001b[1;33m\u001b[0m\u001b[0m\n\u001b[0;32m     57\u001b[0m     \u001b[0mpyplot\u001b[0m\u001b[1;33m.\u001b[0m\u001b[0mshow\u001b[0m\u001b[1;33m(\u001b[0m\u001b[1;33m)\u001b[0m\u001b[1;33m\u001b[0m\u001b[1;33m\u001b[0m\u001b[0m\n\u001b[1;32m---> 58\u001b[1;33m     \u001b[0mtime\u001b[0m\u001b[1;33m.\u001b[0m\u001b[0msleep\u001b[0m\u001b[1;33m(\u001b[0m\u001b[1;36m10\u001b[0m\u001b[1;33m)\u001b[0m\u001b[1;33m\u001b[0m\u001b[1;33m\u001b[0m\u001b[0m\n\u001b[0m",
      "\u001b[1;31mKeyboardInterrupt\u001b[0m: "
     ]
    }
   ],
   "source": [
    "while True:\n",
    "    new_classifications = {\n",
    "        'classification_id': [],\n",
    "        'subject_ids': [],\n",
    "        'lensed': [],\n",
    "        'created_at': [],\n",
    "    }\n",
    "    for classification in Classification.where(\n",
    "        scope='project', project_id=14770, last_id=previous_classifications.iloc[-1].name,\n",
    "        page_size=100,\n",
    "    ):\n",
    "        new_classifications['classification_id'].append(classification.id)\n",
    "        new_classifications['subject_ids'].append(classification.links.subjects[0].id)\n",
    "        new_classifications['lensed'].append(classification.annotations[0]['value'] in ('Yes', 0, '0'))\n",
    "        new_classifications['created_at'].append(classification.created_at)\n",
    "    new_classifications = pandas.DataFrame(new_classifications).set_index('classification_id')\n",
    "    new_classifications['created_at'] = pandas.to_datetime(new_classifications['created_at'])\n",
    "    previous_classifications = pandas.concat([previous_classifications, new_classifications])\n",
    "    previous_classifications.to_pickle('data/classifications.pkl')\n",
    "\n",
    "    session_classifications = previous_classifications[previous_classifications['created_at'].gt(START_DATETIME)]\n",
    "    session_subjects = session_classifications['subject_ids'].drop_duplicates()\n",
    "    all_subject_classifications = previous_classifications[previous_classifications['subject_ids'].isin(session_subjects)]\n",
    "\n",
    "    aggregated_classifications = all_subject_classifications.pivot_table(\n",
    "        columns=['lensed'],\n",
    "        values='lensed',\n",
    "        index='subject_ids',\n",
    "        aggfunc=lambda x: len(x.unique()),\n",
    "        fill_value=0,\n",
    "    )\n",
    "    aggregated_classifications['consensus'] = aggregated_classifications.apply(\n",
    "        lambda c: c[1.0] > c[0.0],\n",
    "        axis=1,\n",
    "    )\n",
    "    aggregated_classifications['total'] = aggregated_classifications[True] + aggregated_classifications[False]\n",
    "    aggregated_classifications['agreement'] = aggregated_classifications.apply(\n",
    "        lambda c: c[c['consensus']] / c['total'],\n",
    "        axis=1,\n",
    "    )\n",
    "\n",
    "    mean_agreement = aggregated_classifications['agreement'].mean()\n",
    "\n",
    "    session_stats = pandas.concat((\n",
    "        session_stats,\n",
    "        pandas.DataFrame({\n",
    "            'timestamp': [pytz.UTC.localize(datetime.now())],\n",
    "            'total': [len(session_classifications)],\n",
    "            'agreement': [mean_agreement],\n",
    "        })\n",
    "    ))\n",
    "    session_stats.to_pickle('data/stats.pkl')\n",
    "    clear_output(wait=True)\n",
    "    session_stats.plot(x='timestamp', y='total')\n",
    "    pyplot.show()\n",
    "    session_stats.plot(x='timestamp', y='agreement')\n",
    "    pyplot.show()\n",
    "    time.sleep(10)"
   ]
  }
 ],
 "metadata": {
  "interpreter": {
   "hash": "4f85cde7d8b1579f8a83d1ec8ee622389003b5d8daf3da9b86d821365f66615c"
  },
  "kernelspec": {
   "display_name": "Python 3.8.5 ('base')",
   "language": "python",
   "name": "python3"
  },
  "language_info": {
   "codemirror_mode": {
    "name": "ipython",
    "version": 3
   },
   "file_extension": ".py",
   "mimetype": "text/x-python",
   "name": "python",
   "nbconvert_exporter": "python",
   "pygments_lexer": "ipython3",
   "version": "3.8.5"
  },
  "orig_nbformat": 4
 },
 "nbformat": 4,
 "nbformat_minor": 2
}
